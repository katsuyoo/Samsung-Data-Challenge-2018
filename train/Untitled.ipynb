{
 "cells": [
  {
   "cell_type": "code",
   "execution_count": 9,
   "metadata": {},
   "outputs": [
    {
     "name": "stdout",
     "output_type": "stream",
     "text": [
      "generate missing parts\n",
      "convert to onehot data\n",
      "0 to 1 scaling\n"
     ]
    },
    {
     "name": "stderr",
     "output_type": "stream",
     "text": [
      "/anaconda/lib/python3.5/site-packages/tensorflow/python/ops/gradients_impl.py:93: UserWarning: Converting sparse IndexedSlices to a dense Tensor of unknown shape. This may consume a large amount of memory.\n",
      "  \"Converting sparse IndexedSlices to a dense Tensor of unknown shape. \"\n"
     ]
    },
    {
     "name": "stdout",
     "output_type": "stream",
     "text": [
      "Epoch: 0 , loss: 19.3572483063 , mse: 1.64164483547 , ce: 15.9093894958 , l2p: 1.80821859837\n",
      "INFO:tensorflow:Restoring parameters from tmp/MIDAS\n",
      "Numeric score:  7.389921075905603\n",
      "Categoric score:  5.0\n"
     ]
    }
   ],
   "source": [
    "from midas import Midas\n",
    "from sklearn.preprocessing import MinMaxScaler\n",
    "import numpy as np\n",
    "import pandas as pd\n",
    "from dataprocessor import dataProcessor\n",
    "from math import exp, pow\n",
    "\n",
    "# import csv2utf8\n",
    "# already created utf8 files\n",
    "\n",
    "proc = dataProcessor()\n",
    "data_0, col_list = proc.preProcessing(data_path='train_utf.csv', isTrain = True)\n",
    "origin_data = proc.train_ref\n",
    "\n",
    "rand_pick = np.random.permutation(np.arange(data_0.shape[0]))\n",
    "missing_index = proc.missing_index.drop(rand_pick[:16])\n",
    "data_0_test = data_0.loc[rand_pick[:16]]\n",
    "test_origin = origin_data.loc[rand_pick[:16]]\n",
    "data_0.drop(rand_pick[:16],inplace=True)\n",
    "\n",
    "imputer = Midas(vae = False)\n",
    "imputer.modeling(imputation_target = data_0, num_levels = col_list)\n",
    "\n",
    "imputer.training(epochs=1)\n",
    "\n",
    "\n",
    "imputer.restoration(data_0_test)\n",
    "\n",
    "\n",
    "test_pred = imputer.y_batch\n",
    "\n",
    "\n",
    "\n",
    "test_pred_row = proc.postProcessing(test_pred)\n",
    "\n",
    "test_origin_num = test_origin.drop(proc.categorical, axis=1)\n",
    "test_origin_cat = test_origin[proc.categorical]\n",
    "\n",
    "test_pred_row_num = test_pred_row.drop(proc.categorical, axis=1)\n",
    "test_pred_row_cat = test_pred_row[proc.categorical]\n",
    "\n",
    "missing_index_num = missing_index.drop(proc.categorical, axis=1)\n",
    "missing_index_cat = missing_index[proc.categorical]\n",
    "\n",
    "\n",
    "\n",
    "\n",
    "test_origin_cat.reset_index(drop=True, inplace=True)\n",
    "test_origin_num.reset_index(drop=True, inplace=True)\n",
    "missing_index_cat.reset_index(drop=True, inplace=True)\n",
    "num_diff = test_origin_num[missing_index_num==1]-test_pred_row_num[missing_index_num==1]\n",
    "for column in test_origin_num.columns:\n",
    "    for index in range(test_origin_num.shape[0]):\n",
    "        num_diff.loc[index, column] = exp(-pow(num_diff.loc[index, column],2))\n",
    "\n",
    "numerical_score = num_diff.sum().sum()        \n",
    "\n",
    "cat_diff = pd.DataFrame(np.zeros_like(test_origin_cat), columns=test_origin_cat.columns)\n",
    "for column in test_origin_cat.columns:\n",
    "    for index in range(test_origin_cat.shape[0]):\n",
    "        if test_origin_cat.loc[index, column]==test_pred_row_cat.loc[index, column] and missing_index_cat.loc[index, column]==1:\n",
    "            cat_diff.loc[index,column]=1\n",
    "            \n",
    "categorical_score = cat_diff.sum().sum()\n",
    "\n",
    "\n",
    "\n",
    "print('Numeric score: ',numerical_score)\n",
    "print('Categoric score: ',categorical_score)"
   ]
  },
  {
   "cell_type": "code",
   "execution_count": 10,
   "metadata": {},
   "outputs": [
    {
     "name": "stdout",
     "output_type": "stream",
     "text": [
      "   주야 요일 발생지시도 발생지시군구 사고유형_대분류 사고유형_중분류 법규위반 도로형태_대분류 도로형태 당사자종별_1당_대분류  \\\n",
      "0   0  0     0      0        1        0    0        0    0            0   \n",
      "1   1  0     0      0        1        0    0        0    1            0   \n",
      "2   0  1     0      0        0        0    0        0    0            0   \n",
      "3   1  0     0      0        0        0    0        0    0            0   \n",
      "4   0  1     0      0        0        0    0        0    0            0   \n",
      "5   0  0     0      0        0        0    0        0    0            0   \n",
      "6   0  1     1      0        0        0    0        0    1            0   \n",
      "7   0  0     0      1        0        0    1        0    0            1   \n",
      "8   0  1     0      0        0        0    0        0    1            0   \n",
      "9   0  0     1      0        0        0    0        0    0            0   \n",
      "10  0  1     0      0        0        1    0        0    0            1   \n",
      "11  0  1     0      0        0        0    0        1    0            0   \n",
      "12  1  0     1      0        0        0    0        0    0            0   \n",
      "13  0  1     0      0        0        0    0        0    0            0   \n",
      "14  0  0     1      0        1        0    1        0    0            0   \n",
      "15  0  0     0      0        0        1    0        0    0            0   \n",
      "\n",
      "   당사자종별_2당_대분류  \n",
      "0             0  \n",
      "1             0  \n",
      "2             1  \n",
      "3             0  \n",
      "4             0  \n",
      "5             0  \n",
      "6             0  \n",
      "7             0  \n",
      "8             0  \n",
      "9             0  \n",
      "10            0  \n",
      "11            0  \n",
      "12            0  \n",
      "13            0  \n",
      "14            0  \n",
      "15            0  \n",
      "    사망자수  사상자수  중상자수  경상자수  부상신고자수\n",
      "0    1.0   NaN   NaN   NaN     0.0\n",
      "1    NaN   NaN   NaN   NaN     NaN\n",
      "2    NaN   NaN   NaN   NaN     NaN\n",
      "3    NaN   NaN   NaN   NaN     NaN\n",
      "4    NaN   1.0   NaN   NaN     NaN\n",
      "5    NaN   1.0   NaN   NaN     0.0\n",
      "6    NaN   NaN   NaN   NaN     NaN\n",
      "7    NaN   NaN   NaN   0.0     0.0\n",
      "8    NaN   NaN   NaN   NaN     NaN\n",
      "9    1.0   NaN   0.0   0.0     NaN\n",
      "10   NaN   NaN   NaN   NaN     NaN\n",
      "11   NaN   NaN   NaN   NaN     NaN\n",
      "12   NaN   NaN   NaN   NaN     NaN\n",
      "13   NaN   NaN   NaN   NaN     NaN\n",
      "14   NaN   NaN   NaN   NaN     NaN\n",
      "15   NaN   NaN   NaN   NaN     NaN\n",
      "        사망자수      사상자수      중상자수      경상자수    부상신고자수\n",
      "0   0.009966       NaN       NaN       NaN -0.039703\n",
      "1        NaN       NaN       NaN       NaN       NaN\n",
      "2        NaN       NaN       NaN       NaN       NaN\n",
      "3        NaN       NaN       NaN       NaN       NaN\n",
      "4        NaN -0.046692       NaN       NaN       NaN\n",
      "5        NaN -0.057922       NaN       NaN -0.013157\n",
      "6        NaN       NaN       NaN       NaN       NaN\n",
      "7        NaN       NaN       NaN -0.011607  0.017920\n",
      "8        NaN       NaN       NaN       NaN       NaN\n",
      "9  -0.014118       NaN -0.016328  0.036277       NaN\n",
      "10       NaN       NaN       NaN       NaN       NaN\n",
      "11       NaN       NaN       NaN       NaN       NaN\n",
      "12       NaN       NaN       NaN       NaN       NaN\n",
      "13       NaN       NaN       NaN       NaN       NaN\n",
      "14       NaN       NaN       NaN       NaN       NaN\n",
      "15       NaN       NaN       NaN       NaN       NaN\n"
     ]
    }
   ],
   "source": [
    "print(missing_index_cat)\n",
    "print(test_origin_num[missing_index_num==1])\n",
    "print(test_pred_row_num[missing_index_num==1])"
   ]
  },
  {
   "cell_type": "code",
   "execution_count": null,
   "metadata": {
    "collapsed": true
   },
   "outputs": [],
   "source": []
  }
 ],
 "metadata": {
  "kernelspec": {
   "display_name": "Python 3",
   "language": "python",
   "name": "python3"
  },
  "language_info": {
   "codemirror_mode": {
    "name": "ipython",
    "version": 3
   },
   "file_extension": ".py",
   "mimetype": "text/x-python",
   "name": "python",
   "nbconvert_exporter": "python",
   "pygments_lexer": "ipython3",
   "version": "3.5.3"
  }
 },
 "nbformat": 4,
 "nbformat_minor": 2
}
